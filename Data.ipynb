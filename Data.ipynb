{
 "cells": [
  {
   "cell_type": "code",
   "execution_count": 1,
   "metadata": {},
   "outputs": [
    {
     "data": {
      "application/vnd.jupyter.widget-view+json": {
       "model_id": "b5400201e9d64d42b3131a5aee70b153",
       "version_major": 2,
       "version_minor": 0
      },
      "text/plain": [
       "Image(value=b'\\xff\\xd8\\xff\\xe0\\x00\\x10JFIF\\x00\\x01\\x01\\x00\\x00\\x01\\x00\\x01\\x00\\x00\\xff\\xdb\\x00C\\x00\\x02\\x01\\x0…"
      ]
     },
     "metadata": {},
     "output_type": "display_data"
    },
    {
     "data": {
      "application/vnd.jupyter.widget-view+json": {
       "model_id": "0cc598d0326947608e56b58f9f50fc06",
       "version_major": 2,
       "version_minor": 0
      },
      "text/plain": [
       "HBox(children=(IntText(value=10, layout=Layout(height='64px', width='128px')), Button(button_style='success', …"
      ]
     },
     "metadata": {},
     "output_type": "display_data"
    },
    {
     "data": {
      "application/vnd.jupyter.widget-view+json": {
       "model_id": "9eab74d568e24a15a0fac5c8ab7ecc4a",
       "version_major": 2,
       "version_minor": 0
      },
      "text/plain": [
       "HBox(children=(IntText(value=9, layout=Layout(height='64px', width='128px')), Button(button_style='danger', de…"
      ]
     },
     "metadata": {},
     "output_type": "display_data"
    },
    {
     "data": {
      "application/vnd.jupyter.widget-view+json": {
       "model_id": "a857732c31af407b89ed8e6d262c9923",
       "version_major": 2,
       "version_minor": 0
      },
      "text/plain": [
       "HBox(children=(IntText(value=9, layout=Layout(height='64px', width='128px')), Button(button_style='warning', d…"
      ]
     },
     "metadata": {},
     "output_type": "display_data"
    }
   ],
   "source": [
    "import uuid\n",
    "import os\n",
    "import cv2\n",
    "import numpy as np\n",
    "import traitlets\n",
    "import ipywidgets.widgets as widgets\n",
    "from IPython.display import display\n",
    "from jetbot import Camera, bgr8_to_jpeg\n",
    "\n",
    "\n",
    "#turning the camera on and displaying what it sees\n",
    "camera = Camera.instance(width=224, height=224)\n",
    "image = widgets.Image(format='jpeg', width=224, height=224)  # this width and height doesn't necessarily have to match the camera\n",
    "camera_link = traitlets.dlink((camera, 'value'), (image, 'value'), transform=bgr8_to_jpeg)\n",
    "display(image)\n",
    "\n",
    "x_path = 'Tic-Tac-Toe Dataset/x'\n",
    "o_path = 'Tic-Tac-Toe Dataset/o'\n",
    "empty_path =  'Tic-Tac-Toe Dataset/empty'\n",
    "\n",
    "\n",
    "def crop_9(image, location):    #divides the image into 9 images, which it then stores in the location provided\n",
    "    y = image.shape[0]    \n",
    "    x = image.shape[1]    \n",
    "\n",
    "    x_3 = int(x/3)\n",
    "    y_3 = int(y/3)\n",
    "\n",
    "    x_start = 0\n",
    "    x_end = x_3\n",
    "\n",
    "    y_start = 0\n",
    "    y_end = y_3\n",
    "\n",
    "    for x in range(3):\n",
    "        y_start = 0\n",
    "        y_end = y_3\n",
    "\n",
    "        for y in range(3):\n",
    "            name = os.path.join(location, str(uuid.uuid4())+\".jpg\")\n",
    "            crop = image[ x_start:x_end , y_start:y_end ]\n",
    "            cv2.imwrite(name, crop)\n",
    "            y_start += y_3\n",
    "            y_end += y_3\n",
    "\n",
    "        x_start += x_3\n",
    "        x_end += x_3\n",
    "\n",
    "\n",
    "#each takes a picture, crops it in 9, and takes it to either the x, o, or empty files\n",
    "def capture_x():\n",
    "    image_path = os.path.join(x_path, \"placeholder\" + '.jpg')\n",
    "    with open(image_path, 'wb') as f:\n",
    "        f.write(image.value)\n",
    "    x = cv2.imread(image_path)\n",
    "    crop_9(x, x_path)\n",
    "    os.remove(image_path)\n",
    "    \n",
    "\n",
    "def capture_o():\n",
    "    image_path = os.path.join(o_path, \"placeholder\" + '.jpg')\n",
    "    with open(image_path, 'wb') as f:\n",
    "        f.write(image.value)\n",
    "    o = cv2.imread(image_path)\n",
    "    crop_9(o,o_path)\n",
    "    os.remove(image_path)\n",
    "\n",
    "def capture_empty():\n",
    "    image_path = os.path.join(empty_path, \"placeholder\" + '.jpg')\n",
    "    with open(image_path, 'wb') as f:\n",
    "        f.write(image.value)\n",
    "    empty = cv2.imread(image_path)\n",
    "    crop_9(empty,empty_path)\n",
    "    os.remove(image_path)\n",
    "\n",
    "#placing the buttons\n",
    "button_layout = widgets.Layout(width='128px', height='64px')\n",
    "x_button = widgets.Button(description='add x', button_style='success', layout=button_layout)\n",
    "o_button = widgets.Button(description='add o', button_style='danger', layout=button_layout)\n",
    "empty_button = widgets.Button(description='add empty', button_style='warning', layout=button_layout)\n",
    "\n",
    "x_count = widgets.IntText(layout=button_layout, value=len(os.listdir(x_path)))\n",
    "o_count = widgets.IntText(layout=button_layout, value=len(os.listdir(o_path)))\n",
    "empty_count = widgets.IntText(layout=button_layout, value=len(os.listdir(empty_path)))\n",
    "\n",
    "#locating the buttons\n",
    "display(widgets.HBox([x_count, x_button]))\n",
    "display(widgets.HBox([o_count, o_button]))\n",
    "display(widgets.HBox([empty_count, empty_button]))\n",
    "\n",
    "#connecting the buttons to their function\n",
    "x_button.on_click(lambda x: capture_x())\n",
    "o_button.on_click(lambda x: capture_o())\n",
    "empty_button.on_click(lambda x: capture_empty())\n"
   ]
  },
  {
   "cell_type": "code",
   "execution_count": null,
   "metadata": {},
   "outputs": [],
   "source": [
    "\n"
   ]
  }
 ],
 "metadata": {
  "kernelspec": {
   "display_name": "Python 3",
   "language": "python",
   "name": "python3"
  },
  "language_info": {
   "codemirror_mode": {
    "name": "ipython",
    "version": 3
   },
   "file_extension": ".py",
   "mimetype": "text/x-python",
   "name": "python",
   "nbconvert_exporter": "python",
   "pygments_lexer": "ipython3",
   "version": "3.6.9"
  }
 },
 "nbformat": 4,
 "nbformat_minor": 4
}
